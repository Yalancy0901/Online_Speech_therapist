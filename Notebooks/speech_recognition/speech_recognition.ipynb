{
 "cells": [
  {
   "cell_type": "markdown",
   "metadata": {},
   "source": [
    "\n",
    "\n",
    "\n",
    "\n",
    "## Project: Speech Recognition with Neural Networks for therapy\n",
    "\n",
    "\n",
    "## Introduction  \n",
    "\n",
    "In this notebook, we built a deep neural network that functions as part of an end-to-end automatic speech recognition (ASR) pipeline! thi pipeline will accept raw audio as input and return a predicted transcription of the spoken language.\n",
    "\n",
    "\n",
    "\n",
    "- **STEP 1** is a pre-processing step that converts raw audio to one of two feature representations that are commonly used for ASR. \n",
    "- **STEP 2** is an acoustic model which accepts audio features as input and returns a probability distribution over all potential transcriptions.  After learning about the basic types of neural networks that are often used for acoustic modeling, you will engage in your own investigations, to design your own acoustic model!\n",
    "- **STEP 3** in the pipeline takes the output from the acoustic model and returns a predicted transcription.  \n",
    "\n",
    "Structure of this notebook\n",
    "\n",
    "- [**STEP 1**](#step1): Acoustic Features for Speech Recognition\n",
    "- [**STEP 2**](#step2): Deep Neural Networks for Acoustic Modeling\n",
    "    - [Model 0](#model0): RNN\n",
    "    - [Model 1](#model1): RNN + TimeDistributed Dense\n",
    "    - [Model 2](#model2): CNN + RNN + TimeDistributed Dense\n",
    "    - [Model 3](#model3): Deeper RNN + TimeDistributed Dense\n",
    "    - [Model 4](#model4): Bidirectional RNN + TimeDistributed Dense\n",
    "    - [Models 5+](#model5)\n",
    "    - [Compare the Models](#compare)\n",
    "    - [Final Model](#final)\n",
    "- [**STEP 3**](#step3): Obtain Predictions\n",
    "\n",
    "<a id='thedata'></a>\n",
    "## The Data\n",
    "\n",
    "We begin by investigating the dataset that will be used to train and evaluate your pipeline.  [LibriSpeech](http://www.danielpovey.com/files/2015_icassp_librispeech.pdf) is a large corpus of English-read speech, designed for training and evaluating models for ASR.  The dataset contains 1000 hours of speech derived from audiobooks.  We will work with a small subset in this project, since larger-scale data would take a long while to train. \n",
    " The returned variables are:\n",
    "- `vis_text` - transcribed text (label) for the training example.\n",
    "- `vis_raw_audio` - raw audio waveform for the training example.\n",
    "- `vis_mfcc_feature` - mel-frequency cepstral coefficients (MFCCs) for the training example.\n",
    "- `vis_spectrogram_feature` - spectrogram for the training example. \n",
    "- `vis_audio_path` - the file path to the training example."
   ]
  },
  {
   "cell_type": "code",
   "execution_count": null,
   "metadata": {
    "scrolled": false
   },
   "outputs": [],
   "source": [
    "from data_generator import vis_train_features\n",
    "\n",
    "# extract label and audio features for a single training example\n",
    "vis_text, vis_raw_audio, vis_mfcc_feature, vis_spectrogram_feature, vis_audio_path = vis_train_features()"
   ]
  },
  {
   "cell_type": "markdown",
   "metadata": {},
   "source": [
    "The following code cell visualizes the audio waveform for your chosen example, along with the corresponding transcript.  You also have the option to play the audio in the notebook!"
   ]
  },
  {
   "cell_type": "code",
   "execution_count": null,
   "metadata": {},
   "outputs": [],
   "source": [
    "from IPython.display import Markdown, display\n",
    "from data_generator import vis_train_features, plot_raw_audio\n",
    "from IPython.display import Audio\n",
    "%matplotlib inline\n",
    "\n",
    "# plot audio signal\n",
    "plot_raw_audio(vis_raw_audio)\n",
    "# print length of audio signal\n",
    "display(Markdown('**Shape of Audio Signal** : ' + str(vis_raw_audio.shape)))\n",
    "# print transcript corresponding to audio clip\n",
    "display(Markdown('**Transcript** : ' + str(vis_text)))\n",
    "# play the audio file\n",
    "Audio(vis_audio_path)"
   ]
  },
  {
   "cell_type": "code",
   "execution_count": null,
   "metadata": {},
   "outputs": [],
   "source": [
    "# Import the necessary modules from oneDNN\n",
    "import onednn as dnn\n",
    "\n",
    "# Create a oneDNN memory object for the input data\n",
    "input_data = dnn.memory(shape=(batch_size, input_size), data_type=dnn.float32, format=dnn.memory.format.nc)\n",
    "\n",
    "# Create a oneDNN memory object for the output data\n",
    "output_data = dnn.memory(shape=(batch_size, output_size), data_type=dnn.float32, format=dnn.memory.format.nc)\n",
    "\n",
    "# Create a oneDNN primitive for the computation\n",
    "primitive = dnn.primitive(input_data, output_data)\n",
    "\n",
    "# Execute the computation using oneDNN\n",
    "primitive.execute()\n",
    "\n",
    "# Get the results from the oneDNN memory object\n",
    "results = output_data.get_data()\n",
    "\n",
    "# Continue with the rest of your code using the optimized results\n"
   ]
  },
  {
   "cell_type": "markdown",
   "metadata": {},
   "source": [
    "## To import the oneDNN library from Intel oneAPI oneDNN:\n",
    "\n"
   ]
  },
  {
   "cell_type": "code",
   "execution_count": null,
   "metadata": {},
   "outputs": [],
   "source": [
    "%pip install onednn-cpu-gomp\n",
    "\n",
    "import oneDNN as dnn\n",
    "\n"
   ]
  },
  {
   "cell_type": "code",
   "execution_count": null,
   "metadata": {},
   "outputs": [],
   "source": [
    "import os\n",
    "\n",
    "os.environ['TF_ENABLE_ONEDNN_OPTS'] = '1'\n",
    "os.environ['TF_ENABLE_AUTO_MIXED_PRECISION'] = '1'"
   ]
  },
  {
   "cell_type": "markdown",
   "metadata": {},
   "source": [
    "<a id='step1'></a>\n",
    "## STEP 1: Acoustic Features for Speech Recognition\n",
    "\n",
    "For this project, we didn't use the raw audio waveform as input to your model.  Instead, we provide code that first performs a pre-processing step to convert the raw audio to a feature representation that has historically proven successful for ASR models.  Your acoustic model will accept the feature representation as input.\n",
    "\n",
    "\n",
    "### Spectrograms\n",
    "\n",
    "The first option for an audio feature representation is the [spectrogram](https://www.youtube.com/watch?v=_FatxGN3vAM).  In order to complete this project, you will **not** need to dig deeply into the details of how a spectrogram is calculated; but, if you are curious, the code for calculating the spectrogram was borrowed from [this repository](https://github.com/baidu-research/ba-dls-deepspeech).  The implementation appears in the `utils.py` file in your repository.\n",
    "\n",
    "The code that we give you returns the spectrogram as a 2D tensor, where the first (_vertical_) dimension indexes time, and the second (_horizontal_) dimension indexes frequency.  To speed the convergence of your algorithm, we have also normalized the spectrogram.  (You can see this quickly in the visualization below by noting that the mean value hovers around zero, and most entries in the tensor assume values close to zero.)"
   ]
  },
  {
   "cell_type": "code",
   "execution_count": null,
   "metadata": {},
   "outputs": [],
   "source": [
    "from data_generator import plot_spectrogram_feature\n",
    "\n",
    "# plot normalized spectrogram\n",
    "plot_spectrogram_feature(vis_spectrogram_feature)\n",
    "# print shape of spectrogram\n",
    "display(Markdown('**Shape of Spectrogram** : ' + str(vis_spectrogram_feature.shape)))"
   ]
  },
  {
   "cell_type": "markdown",
   "metadata": {},
   "source": [
    "### Mel-Frequency Cepstral Coefficients (MFCCs)\n",
    "\n",
    "Just as with the spectrogram features, the MFCCs are normalized in the supplied code.\n",
    "\n",
    "source:[documentation](https://github.com/jameslyons/python_speech_features)\n",
    "\n",
    "The main idea behind MFCC features is the same as spectrogram features: at each time window, the MFCC feature yields a feature vector that characterizes the sound within the window.  Note that the MFCC feature is much lower-dimensional than the spectrogram feature, which could help an acoustic model to avoid overfitting to the training dataset. "
   ]
  },
  {
   "cell_type": "code",
   "execution_count": null,
   "metadata": {},
   "outputs": [],
   "source": [
    "from data_generator import plot_mfcc_feature\n",
    "\n",
    "# plot normalized MFCC\n",
    "plot_mfcc_feature(vis_mfcc_feature)\n",
    "# print shape of MFCC\n",
    "display(Markdown('**Shape of MFCC** : ' + str(vis_mfcc_feature.shape)))"
   ]
  },
  {
   "cell_type": "markdown",
   "metadata": {},
   "source": [
    "For constructing pipeline\n",
    "sources:\n",
    "\n",
    "- This [repository](https://github.com/baidu-research/ba-dls-deepspeech) uses spectrograms.\n",
    "- This [repository](https://github.com/mozilla/DeepSpeech) uses MFCCs.\n",
    "- This [repository](https://github.com/buriburisuri/speech-to-text-wavenet) also uses MFCCs.\n",
    "- This [repository](https://github.com/pannous/tensorflow-speech-recognition/blob/master/speech_data.py) experiments with raw audio, spectrograms, and MFCCs as features."
   ]
  },
  {
   "cell_type": "markdown",
   "metadata": {},
   "source": [
    "<a id='step2'></a>\n",
    "## STEP 2: Deep Neural Networks for Acoustic Modeling\n",
    "\n",
    "In this section, we experimented with various neural network architectures for acoustic modeling.  \n",
    "\n",
    "\n",
    "\n",
    "After experimenting with the five simple architectures,  Based on findings, constructing  a deeper architecture that is designed to outperform all of the shallow models.\n"
   ]
  },
  {
   "cell_type": "code",
   "execution_count": 6,
   "metadata": {},
   "outputs": [
    {
     "name": "stderr",
     "output_type": "stream",
     "text": [
      "Using TensorFlow backend.\n"
     ]
    }
   ],
   "source": [
    "#####################################################################\n",
    "# RUN THIS CODE CELL IF YOU ARE RESUMING THE NOTEBOOK AFTER A BREAK #\n",
    "#####################################################################\n",
    "\n",
    "# allocate 50% of GPU memory (if you like, feel free to change this)\n",
    "from keras.backend.tensorflow_backend import set_session\n",
    "import tensorflow as tf \n",
    "config = tf.ConfigProto()\n",
    "config.gpu_options.per_process_gpu_memory_fraction = 0.5\n",
    "set_session(tf.Session(config=config))\n",
    "\n",
    "# watch for any changes in the sample_models module, and reload it automatically\n",
    "%load_ext autoreload\n",
    "%autoreload 2\n",
    "# import NN architectures for speech recognition\n",
    "from sample_models import *\n",
    "# import function for training acoustic model\n",
    "from train_utils import train_model"
   ]
  },
  {
   "cell_type": "markdown",
   "metadata": {},
   "source": [
    "<a id='model0'></a>\n",
    "### Model 0: RNN\n",
    "\n",
    "\n",
    "The model has already been specified for you in Keras.  "
   ]
  },
  {
   "cell_type": "code",
   "execution_count": null,
   "metadata": {},
   "outputs": [],
   "source": [
    "model_0 = simple_rnn_model(input_dim=161) # change to 13 if you would like to use MFCC features"
   ]
  },
  {
   "cell_type": "code",
   "execution_count": 8,
   "metadata": {},
   "outputs": [
    {
     "name": "stdout",
     "output_type": "stream",
     "text": [
      "Epoch 1/20\n",
      "106/106 [==============================] - 302s - loss: 839.6881 - val_loss: 744.7609\n",
      "Epoch 2/20\n",
      "106/106 [==============================] - 276s - loss: 767.3973 - val_loss: 727.8361\n",
      "Epoch 3/20\n",
      "106/106 [==============================] - 272s - loss: 752.6904 - val_loss: 720.8375\n",
      "Epoch 4/20\n",
      "106/106 [==============================] - 261s - loss: 751.8432 - val_loss: 728.3446\n",
      "Epoch 5/20\n",
      "106/106 [==============================] - 261s - loss: 752.1302 - val_loss: 733.3166\n",
      "Epoch 6/20\n",
      "106/106 [==============================] - 264s - loss: 752.3786 - val_loss: 722.4345\n",
      "Epoch 7/20\n",
      "106/106 [==============================] - 265s - loss: 752.7827 - val_loss: 723.2651\n",
      "Epoch 8/20\n",
      "106/106 [==============================] - 263s - loss: 752.5077 - val_loss: 736.0229\n",
      "Epoch 9/20\n",
      "106/106 [==============================] - 263s - loss: 752.5616 - val_loss: 731.2018\n",
      "Epoch 10/20\n",
      "106/106 [==============================] - 261s - loss: 752.8317 - val_loss: 722.1588\n",
      "Epoch 11/20\n",
      "106/106 [==============================] - 263s - loss: 752.7643 - val_loss: 727.2770\n",
      "Epoch 12/20\n",
      "106/106 [==============================] - 262s - loss: 751.7809 - val_loss: 728.3259\n",
      "Epoch 13/20\n",
      "106/106 [==============================] - 264s - loss: 752.8598 - val_loss: 728.8630\n",
      "Epoch 14/20\n",
      "106/106 [==============================] - 263s - loss: 752.3174 - val_loss: 725.1586\n",
      "Epoch 15/20\n",
      "106/106 [==============================] - 260s - loss: 751.8822 - val_loss: 722.8142\n",
      "Epoch 16/20\n",
      "106/106 [==============================] - 260s - loss: 752.0558 - val_loss: 729.2513\n",
      "Epoch 17/20\n",
      "106/106 [==============================] - 264s - loss: 752.8628 - val_loss: 726.9389\n",
      "Epoch 18/20\n",
      "106/106 [==============================] - 261s - loss: 752.4938 - val_loss: 723.7581\n",
      "Epoch 19/20\n",
      "106/106 [==============================] - 262s - loss: 752.3882 - val_loss: 726.2503\n",
      "Epoch 20/20\n",
      "106/106 [==============================] - 264s - loss: 751.9891 - val_loss: 726.9996\n"
     ]
    }
   ],
   "source": [
    "train_model(input_to_softmax=model_0, \n",
    "            pickle_path='model_0.pickle', \n",
    "            save_model_path='model_0.h5',\n",
    "            spectrogram=True) # change to False if you would like to use MFCC features"
   ]
  },
  {
   "cell_type": "markdown",
   "metadata": {},
   "source": [
    "<a id='model1'></a>\n",
    "### (IMPLEMENTATION) Model 1: RNN + TimeDistributed Dense\n",
    "\n"
   ]
  },
  {
   "cell_type": "code",
   "execution_count": null,
   "metadata": {
    "scrolled": true
   },
   "outputs": [],
   "source": [
    "model_1 = rnn_model(input_dim=161, # change to 13 if you would like to use MFCC features\n",
    "                    units=200,\n",
    "                    activation='relu')"
   ]
  },
  {
   "cell_type": "code",
   "execution_count": 12,
   "metadata": {},
   "outputs": [
    {
     "name": "stdout",
     "output_type": "stream",
     "text": [
      "Epoch 1/20\n",
      "106/106 [==============================] - 262s - loss: 295.3409 - val_loss: 220.8643\n",
      "Epoch 2/20\n",
      "106/106 [==============================] - 266s - loss: 206.0832 - val_loss: 192.1188\n",
      "Epoch 3/20\n",
      "106/106 [==============================] - 263s - loss: 182.5772 - val_loss: 176.6149\n",
      "Epoch 4/20\n",
      "106/106 [==============================] - 267s - loss: 164.7594 - val_loss: 159.9201\n",
      "Epoch 5/20\n",
      "106/106 [==============================] - 263s - loss: 154.8751 - val_loss: 161.5543\n",
      "Epoch 6/20\n",
      "106/106 [==============================] - 268s - loss: 149.5840 - val_loss: 153.6527\n",
      "Epoch 7/20\n",
      "106/106 [==============================] - 264s - loss: 144.4757 - val_loss: 148.5310\n",
      "Epoch 8/20\n",
      "106/106 [==============================] - 268s - loss: 142.0152 - val_loss: 149.8472\n",
      "Epoch 9/20\n",
      "106/106 [==============================] - 266s - loss: 140.0805 - val_loss: 141.9227\n",
      "Epoch 10/20\n",
      "106/106 [==============================] - 267s - loss: 138.3093 - val_loss: 151.3050\n",
      "Epoch 11/20\n",
      "106/106 [==============================] - 266s - loss: 139.7009 - val_loss: 145.0459\n",
      "Epoch 12/20\n",
      "106/106 [==============================] - 264s - loss: 137.5353 - val_loss: 143.1478\n",
      "Epoch 13/20\n",
      "106/106 [==============================] - 265s - loss: 135.6479 - val_loss: 145.5121\n",
      "Epoch 14/20\n",
      "106/106 [==============================] - 263s - loss: 137.0187 - val_loss: 146.8838\n",
      "Epoch 15/20\n",
      "106/106 [==============================] - 266s - loss: 135.2363 - val_loss: 147.8435\n",
      "Epoch 16/20\n",
      "106/106 [==============================] - 266s - loss: 136.0685 - val_loss: 148.1934\n",
      "Epoch 17/20\n",
      "106/106 [==============================] - 267s - loss: 136.6096 - val_loss: 143.9990\n",
      "Epoch 18/20\n",
      "106/106 [==============================] - 265s - loss: 136.2714 - val_loss: 158.5780\n",
      "Epoch 19/20\n",
      "106/106 [==============================] - 264s - loss: 140.3047 - val_loss: 152.7414\n",
      "Epoch 20/20\n",
      "106/106 [==============================] - 263s - loss: 156.1774 - val_loss: 211.8825\n"
     ]
    }
   ],
   "source": [
    "train_model(input_to_softmax=model_1, \n",
    "            pickle_path='model_1.pickle', \n",
    "            save_model_path='model_1.h5',\n",
    "            spectrogram=True) # change to False if you would like to use MFCC features"
   ]
  },
  {
   "cell_type": "markdown",
   "metadata": {},
   "source": [
    "<a id='model2'></a>\n",
    "### (IMPLEMENTATION) Model 2: CNN + RNN + TimeDistributed Dense\n"
   ]
  },
  {
   "cell_type": "code",
   "execution_count": 13,
   "metadata": {},
   "outputs": [
    {
     "name": "stdout",
     "output_type": "stream",
     "text": [
      "_________________________________________________________________\n",
      "Layer (type)                 Output Shape              Param #   \n",
      "=================================================================\n",
      "the_input (InputLayer)       (None, None, 161)         0         \n",
      "_________________________________________________________________\n",
      "conv1d (Conv1D)              (None, None, 220)         389840    \n",
      "_________________________________________________________________\n",
      "bn_conv_1d (BatchNormalizati (None, None, 220)         880       \n",
      "_________________________________________________________________\n",
      "rnn (SimpleRNN)              (None, None, 200)         84200     \n",
      "_________________________________________________________________\n",
      "bn_rnn (BatchNormalization)  (None, None, 200)         800       \n",
      "_________________________________________________________________\n",
      "time_distributed_3 (TimeDist (None, None, 29)          5829      \n",
      "_________________________________________________________________\n",
      "softmax (Activation)         (None, None, 29)          0         \n",
      "=================================================================\n",
      "Total params: 481,549\n",
      "Trainable params: 480,709\n",
      "Non-trainable params: 840\n",
      "_________________________________________________________________\n",
      "None\n"
     ]
    }
   ],
   "source": [
    "model_2 = cnn_rnn_model(input_dim=161, # change to 13 if you would like to use MFCC features\n",
    "                        filters=220, # Added filters +20\n",
    "                        kernel_size=11, \n",
    "                        conv_stride=2,\n",
    "                        conv_border_mode='valid',\n",
    "                        units=200)"
   ]
  },
  {
   "cell_type": "code",
   "execution_count": null,
   "metadata": {},
   "outputs": [],
   "source": [
    "train_model(input_to_softmax=model_2, \n",
    "            pickle_path='model_2.pickle', \n",
    "            save_model_path='model_2.h5', \n",
    "            spectrogram=True) # change to False if you would like to use MFCC features"
   ]
  },
  {
   "cell_type": "markdown",
   "metadata": {},
   "source": [
    "<a id='model3'></a>\n",
    "### (IMPLEMENTATION) Model 3: Deeper RNN + TimeDistributed Dense\n",
    "\n",
    "  In the figure, the output sequence of the first recurrent layer is used as input for the next recurrent layer.\n",
    "\n"
   ]
  },
  {
   "cell_type": "code",
   "execution_count": 16,
   "metadata": {},
   "outputs": [
    {
     "name": "stdout",
     "output_type": "stream",
     "text": [
      "_________________________________________________________________\n",
      "Layer (type)                 Output Shape              Param #   \n",
      "=================================================================\n",
      "the_input (InputLayer)       (None, None, 161)         0         \n",
      "_________________________________________________________________\n",
      "rnn_1 (GRU)                  (None, None, 200)         217200    \n",
      "_________________________________________________________________\n",
      "rnn_0 (GRU)                  (None, None, 200)         240600    \n",
      "_________________________________________________________________\n",
      "bn_0 (BatchNormalization)    (None, None, 200)         800       \n",
      "_________________________________________________________________\n",
      "time_distributed_4 (TimeDist (None, None, 29)          5829      \n",
      "_________________________________________________________________\n",
      "softmax (Activation)         (None, None, 29)          0         \n",
      "=================================================================\n",
      "Total params: 464,429\n",
      "Trainable params: 464,029\n",
      "Non-trainable params: 400\n",
      "_________________________________________________________________\n",
      "None\n"
     ]
    }
   ],
   "source": [
    "model_3 = deep_rnn_model(input_dim=161, # change to 13 if you would like to use MFCC features\n",
    "                         units=200,\n",
    "                         recur_layers=2) "
   ]
  },
  {
   "cell_type": "code",
   "execution_count": 17,
   "metadata": {},
   "outputs": [
    {
     "name": "stdout",
     "output_type": "stream",
     "text": [
      "Epoch 1/20\n",
      "106/106 [==============================] - 471s - loss: 288.1621 - val_loss: 235.6542\n",
      "Epoch 2/20\n",
      "106/106 [==============================] - 479s - loss: 209.9744 - val_loss: 197.5434\n",
      "Epoch 3/20\n",
      "106/106 [==============================] - 475s - loss: 187.3766 - val_loss: 181.8195\n",
      "Epoch 4/20\n",
      "106/106 [==============================] - 476s - loss: 168.6596 - val_loss: 164.7616\n",
      "Epoch 5/20\n",
      "106/106 [==============================] - 473s - loss: 154.7024 - val_loss: 151.4324\n",
      "Epoch 6/20\n",
      "106/106 [==============================] - 481s - loss: 145.1881 - val_loss: 152.9696\n",
      "Epoch 7/20\n",
      "106/106 [==============================] - 479s - loss: 139.4188 - val_loss: 146.7096\n",
      "Epoch 8/20\n",
      "106/106 [==============================] - 473s - loss: 134.7784 - val_loss: 140.8516\n",
      "Epoch 9/20\n",
      "106/106 [==============================] - 480s - loss: 130.4710 - val_loss: 142.5627\n",
      "Epoch 10/20\n",
      "106/106 [==============================] - 477s - loss: 126.3402 - val_loss: 133.8214\n",
      "Epoch 11/20\n",
      "106/106 [==============================] - 478s - loss: 123.9284 - val_loss: 142.5018\n",
      "Epoch 12/20\n",
      "106/106 [==============================] - 476s - loss: 121.1327 - val_loss: 137.9458\n",
      "Epoch 13/20\n",
      "106/106 [==============================] - 481s - loss: 119.1755 - val_loss: 133.7808\n",
      "Epoch 14/20\n",
      "106/106 [==============================] - 478s - loss: 116.5464 - val_loss: 133.4726\n",
      "Epoch 15/20\n",
      "106/106 [==============================] - 477s - loss: 116.0262 - val_loss: 132.7788\n",
      "Epoch 16/20\n",
      "106/106 [==============================] - 474s - loss: 113.5634 - val_loss: 130.3204\n",
      "Epoch 17/20\n",
      "106/106 [==============================] - 475s - loss: 112.6522 - val_loss: 132.7382\n",
      "Epoch 18/20\n",
      "106/106 [==============================] - 477s - loss: 111.5874 - val_loss: 132.5703\n",
      "Epoch 19/20\n",
      "106/106 [==============================] - 478s - loss: 111.0115 - val_loss: 128.3039\n",
      "Epoch 20/20\n",
      "106/106 [==============================] - 475s - loss: 109.8810 - val_loss: 129.6224\n"
     ]
    }
   ],
   "source": [
    "train_model(input_to_softmax=model_3, \n",
    "            pickle_path='model_3.pickle', \n",
    "            save_model_path='model_3.h5', \n",
    "            spectrogram=True) # change to False if you would like to use MFCC features"
   ]
  },
  {
   "cell_type": "markdown",
   "metadata": {},
   "source": [
    "<a id='model4'></a>\n",
    "### (IMPLEMENTATION) Model 4: Bidirectional RNN + TimeDistributed Dense\n",
    "\n"
   ]
  },
  {
   "cell_type": "markdown",
   "metadata": {},
   "source": []
  },
  {
   "cell_type": "code",
   "execution_count": null,
   "metadata": {},
   "outputs": [],
   "source": [
    "model_4 = bidirectional_rnn_model(input_dim=161, # change to 13 if you would like to use MFCC features\n",
    "                                  units=200)"
   ]
  },
  {
   "cell_type": "code",
   "execution_count": null,
   "metadata": {},
   "outputs": [],
   "source": [
    "train_model(input_to_softmax=model_4, \n",
    "            pickle_path='model_4.pickle', \n",
    "            save_model_path='model_4.h5', \n",
    "            spectrogram=True) # change to False if you would like to use MFCC features"
   ]
  },
  {
   "cell_type": "markdown",
   "metadata": {},
   "source": [
    "<a id='compare'></a>\n",
    "### Compare the Models\n",
    "\n"
   ]
  },
  {
   "cell_type": "code",
   "execution_count": 23,
   "metadata": {},
   "outputs": [
    {
     "data": {
      "image/png": "[encoded data removed]",
      "text/plain": [
       "<matplotlib.figure.Figure at 0x7f43469806d8>"
      ]
     },
     "metadata": {},
     "output_type": "display_data"
    }
   ],
   "source": [
    "from glob import glob\n",
    "import numpy as np\n",
    "import _pickle as pickle\n",
    "import seaborn as sns\n",
    "import matplotlib.pyplot as plt\n",
    "%matplotlib inline\n",
    "sns.set_style(style='white')\n",
    "\n",
    "# obtain the paths for the saved model history\n",
    "all_pickles = sorted(glob(\"results/*.pickle\"))\n",
    "# extract the name of each model\n",
    "model_names = [item[8:-7] for item in all_pickles]\n",
    "# extract the loss history for each model\n",
    "valid_loss = [pickle.load( open( i, \"rb\" ) )['val_loss'] for i in all_pickles]\n",
    "train_loss = [pickle.load( open( i, \"rb\" ) )['loss'] for i in all_pickles]\n",
    "# save the number of epochs used to train each model\n",
    "num_epochs = [len(valid_loss[i]) for i in range(len(valid_loss))]\n",
    "\n",
    "fig = plt.figure(figsize=(16,5))\n",
    "\n",
    "# plot the training loss vs. epoch for each model\n",
    "ax1 = fig.add_subplot(121)\n",
    "for i in range(len(all_pickles)):\n",
    "    ax1.plot(np.linspace(1, num_epochs[i], num_epochs[i]), \n",
    "            train_loss[i], label=model_names[i])\n",
    "# clean up the plot\n",
    "ax1.legend()  \n",
    "ax1.set_xlim([1, max(num_epochs)])\n",
    "plt.xlabel('Epoch')\n",
    "plt.ylabel('Training Loss')\n",
    "\n",
    "# plot the validation loss vs. epoch for each model\n",
    "ax2 = fig.add_subplot(122)\n",
    "for i in range(len(all_pickles)):\n",
    "    ax2.plot(np.linspace(1, num_epochs[i], num_epochs[i]), \n",
    "            valid_loss[i], label=model_names[i])\n",
    "# clean up the plot\n",
    "ax2.legend()  \n",
    "ax2.set_xlim([1, max(num_epochs)])\n",
    "plt.xlabel('Epoch')\n",
    "plt.ylabel('Validation Loss')\n",
    "plt.show()"
   ]
  },
  {
   "cell_type": "code",
   "execution_count": 36,
   "metadata": {},
   "outputs": [
    {
     "name": "stdout",
     "output_type": "stream",
     "text": [
      "_________________________________________________________________\n",
      "Layer (type)                 Output Shape              Param #   \n",
      "=================================================================\n",
      "the_input (InputLayer)       (None, None, 161)         0         \n",
      "_________________________________________________________________\n",
      "conv1d (Conv1D)              (None, None, 220)         389840    \n",
      "_________________________________________________________________\n",
      "maxpool_normalized (BatchNor (None, None, 220)         880       \n",
      "_________________________________________________________________\n",
      "bidirectional_8 (Bidirection (None, None, 400)         505200    \n",
      "_________________________________________________________________\n",
      "bidir_rnn_normalized (BatchN (None, None, 400)         1600      \n",
      "_________________________________________________________________\n",
      "time_distributed_13 (TimeDis (None, None, 29)          11629     \n",
      "_________________________________________________________________\n",
      "dropout_3 (Dropout)          (None, None, 29)          0         \n",
      "_________________________________________________________________\n",
      "time_distributed_14 (TimeDis (None, None, 29)          870       \n",
      "_________________________________________________________________\n",
      "softmax (Activation)         (None, None, 29)          0         \n",
      "=================================================================\n",
      "Total params: 910,019\n",
      "Trainable params: 908,779\n",
      "Non-trainable params: 1,240\n",
      "_________________________________________________________________\n",
      "None\n"
     ]
    }
   ],
   "source": [
    "# specify the model\n",
    "model_end = final_model(input_dim = 161,\n",
    "                       filters = 220,\n",
    "                       kernel_size = 11,\n",
    "                       conv_stride = 2,\n",
    "                       conv_border_mode='valid',\n",
    "                        units=200)"
   ]
  },
  {
   "cell_type": "markdown",
   "metadata": {},
   "source": [
    "\n",
    "\n",
    "##  Obtain Predictions\n",
    "\n",
    "function to decode the predictions of your acoustic model."
   ]
  },
  {
   "cell_type": "code",
   "execution_count": 38,
   "metadata": {
    "collapsed": true
   },
   "outputs": [],
   "source": [
    "import numpy as np\n",
    "from data_generator import AudioGenerator\n",
    "from keras import backend as K\n",
    "from utils import int_sequence_to_text\n",
    "from IPython.display import Audio\n",
    "\n",
    "def get_predictions(index, partition, input_to_softmax, model_path):\n",
    "    \"\"\" Print a model's decoded predictions\n",
    "    Params:\n",
    "        index (int): The example you would like to visualize\n",
    "        partition (str): One of 'train' or 'validation'\n",
    "        input_to_softmax (Model): The acoustic model\n",
    "        model_path (str): Path to saved acoustic model's weights\n",
    "    \"\"\"\n",
    "    # load the train and test data\n",
    "    data_gen = AudioGenerator()\n",
    "    data_gen.load_train_data()\n",
    "    data_gen.load_validation_data()\n",
    "    \n",
    "    # obtain the true transcription and the audio features \n",
    "    if partition == 'validation':\n",
    "        transcr = data_gen.valid_texts[index]\n",
    "        audio_path = data_gen.valid_audio_paths[index]\n",
    "        data_point = data_gen.normalize(data_gen.featurize(audio_path))\n",
    "    elif partition == 'train':\n",
    "        transcr = data_gen.train_texts[index]\n",
    "        audio_path = data_gen.train_audio_paths[index]\n",
    "        data_point = data_gen.normalize(data_gen.featurize(audio_path))\n",
    "    else:\n",
    "        raise Exception('Invalid partition!  Must be \"train\" or \"validation\"')\n",
    "        \n",
    "    # obtain and decode the acoustic model's predictions\n",
    "    input_to_softmax.load_weights(model_path)\n",
    "    prediction = input_to_softmax.predict(np.expand_dims(data_point, axis=0))\n",
    "    output_length = [input_to_softmax.output_length(data_point.shape[0])] \n",
    "    pred_ints = (K.eval(K.ctc_decode(\n",
    "                prediction, output_length)[0][0])+1).flatten().tolist()\n",
    "    \n",
    "    # play the audio file, and display the true and predicted transcriptions\n",
    "    print('-'*80)\n",
    "    Audio(audio_path)\n",
    "    print('True transcription:\\n' + '\\n' + transcr)\n",
    "    print('-'*80)\n",
    "    print('Predicted transcription:\\n' + '\\n' + ''.join(int_sequence_to_text(pred_ints)))\n",
    "    print('-'*80)"
   ]
  },
  {
   "cell_type": "code",
   "execution_count": null,
   "metadata": {},
   "outputs": [],
   "source": [
    "get_predictions(index=0, \n",
    "                partition='train',\n",
    "                input_to_softmax=final_model(input_dim = 161,\n",
    "                       filters = 220,\n",
    "                       kernel_size = 11,\n",
    "                       conv_stride = 2,\n",
    "                       conv_border_mode='valid',\n",
    "                        units=200), \n",
    "                model_path='results/model_end.h5')"
   ]
  },
  {
   "cell_type": "code",
   "execution_count": null,
   "metadata": {},
   "outputs": [],
   "source": [
    "get_predictions(index=0, \n",
    "                partition='validation',\n",
    "                input_to_softmax=final_model(input_dim = 161,\n",
    "                       filters = 220,\n",
    "                       kernel_size = 11,\n",
    "                       conv_stride = 2,\n",
    "                       conv_border_mode='valid',\n",
    "                        units=200), \n",
    "                model_path='results/model_end.h5')"
   ]
  }
 ],
 "metadata": {
  "anaconda-cloud": {},
  "kernelspec": {
   "display_name": "Python 3",
   "language": "python",
   "name": "python3"
  },
  "language_info": {
   "codemirror_mode": {
    "name": "ipython",
    "version": 3
   },
   "file_extension": ".py",
   "mimetype": "text/x-python",
   "name": "python",
   "nbconvert_exporter": "python",
   "pygments_lexer": "ipython3",
   "version": "3.6.3"
  }
 },
 "nbformat": 4,
 "nbformat_minor": 2
}
